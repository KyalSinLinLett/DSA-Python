{
 "cells": [
  {
   "cell_type": "code",
   "execution_count": 2,
   "source": [
    "class HashTable:\n",
    "    '''\n",
    "    Hash table implementation with linear probing as collision handling\n",
    "    '''\n",
    "\n",
    "    def __init__(self):\n",
    "        self.MAX_SIZE = 10\n",
    "        self.arr = [None for i in range(self.MAX_SIZE)]\n",
    "\n",
    "    def get_hash(self, key):\n",
    "        h = 0\n",
    "        for char in key:\n",
    "            h += ord(char)\n",
    "        return h % self.MAX_SIZE\n",
    "\n",
    "    def linear_probe_set(self, index, key, val):\n",
    "        if None not in self.arr:\n",
    "            raise Exception('Table is full')\n",
    "\n",
    "        # if there is already a value at the index\n",
    "        if self.arr[index] is not None and self.arr[index][0] == key:\n",
    "            self.arr[index] = (key, val)\n",
    "            return\n",
    "\n",
    "        if self.arr[index] is None:\n",
    "            self.arr[index] = (key, val)\n",
    "            return\n",
    "\n",
    "        index = (index + 1) if index != self.MAX_SIZE-1 else 0\n",
    "        self.linear_probe_set(index, key, val)\n",
    "\n",
    "    def __setitem__(self, key, val):\n",
    "        index = self.get_hash(key)\n",
    "\n",
    "        self.linear_probe_set(index, key, val)\n",
    "\n",
    "    def linear_probe_get(self, index, key):\n",
    "        if self.arr[index][0] == key:\n",
    "            return self.arr[index][1]\n",
    "\n",
    "        index = (index + 1) if index != self.MAX_SIZE-1 else 0\n",
    "        return self.linear_probe_get(index, key)\n",
    "\n",
    "    def __getitem__(self, key):\n",
    "        index = self.get_hash(key)\n",
    "\n",
    "        if key not in [k for k, v in list(filter(lambda x: x is not None, self.arr))]:\n",
    "            raise Exception('Invalid key!')\n",
    "\n",
    "        return self.linear_probe_get(index, key)\n",
    "\n",
    "    def linear_probe_del(self, index, key):\n",
    "        if self.arr[index] is not None:\n",
    "            if self.arr[index][0] == key:\n",
    "                self.arr[index] = None\n",
    "                return\n",
    "\n",
    "        index = (index + 1) if index != self.MAX_SIZE-1 else 0\n",
    "        return self.linear_probe_del(index, key)\n",
    "\n",
    "    def __delitem__(self, key):\n",
    "        index = self.get_hash(key)\n",
    "\n",
    "        if key not in [k for k, v in list(filter(lambda x: x is not None, self.arr))]:\n",
    "            raise Exception('Invalid key!')\n",
    "\n",
    "        self.linear_probe_del(index, key)"
   ],
   "outputs": [],
   "metadata": {}
  },
  {
   "cell_type": "code",
   "execution_count": 19,
   "source": [
    "t = HashTable()\n",
    "t[\"march 6\"] = 20\n",
    "t[\"march 17\"] =  88\n",
    "\n",
    "t[\"march 17\"] = 29\n",
    "t[\"nov 1\"] = 1\n",
    "t[\"march 33\"] = 234\n",
    "# t[\"dec 1\"] <- invalid key exception\n",
    "\n",
    "\n",
    "t[\"march 33\"] = 999\n",
    "\n",
    "t[\"march 33\"]\n",
    "\n",
    "t[\"april 1\"]=87\n",
    "t[\"april 2\"]=123\n",
    "t[\"april 3\"]=234234\n",
    "\n",
    "t[\"april 4\"]=91\n",
    "t[\"May 22\"]=4\n",
    "t[\"May 7\"]=47\n",
    "# t[\"Jan 1\"]=0 <- table is full exception\n",
    "\n",
    "del t[\"april 2\"]\n",
    "\n",
    "t[\"Jan 1\"]=0\n",
    "\n",
    "t.arr == [('march 17', 29), ('nov 1', 1), ('Jan 1', 0), ('april 3', 234234), ('april 4', 91), ('May 22', 4), ('May 7', 47), ('march 33', 999), ('april 1', 87), ('march 6', 20)]\n",
    "\n"
   ],
   "outputs": [
    {
     "output_type": "execute_result",
     "data": {
      "text/plain": [
       "[('march 17', 29),\n",
       " ('nov 1', 1),\n",
       " ('Jan 1', 0),\n",
       " ('april 3', 234234),\n",
       " ('april 4', 91),\n",
       " ('May 22', 4),\n",
       " ('May 7', 47),\n",
       " ('march 33', 999),\n",
       " ('april 1', 87),\n",
       " ('march 6', 20)]"
      ]
     },
     "metadata": {},
     "execution_count": 19
    }
   ],
   "metadata": {}
  },
  {
   "cell_type": "code",
   "execution_count": null,
   "source": [],
   "outputs": [],
   "metadata": {}
  }
 ],
 "metadata": {
  "orig_nbformat": 4,
  "language_info": {
   "name": "python",
   "version": "3.8.10",
   "mimetype": "text/x-python",
   "codemirror_mode": {
    "name": "ipython",
    "version": 3
   },
   "pygments_lexer": "ipython3",
   "nbconvert_exporter": "python",
   "file_extension": ".py"
  },
  "kernelspec": {
   "name": "python3",
   "display_name": "Python 3.8.10 64-bit"
  },
  "interpreter": {
   "hash": "e7370f93d1d0cde622a1f8e1c04877d8463912d04d973331ad4851f04de6915a"
  }
 },
 "nbformat": 4,
 "nbformat_minor": 2
}